{
 "cells": [
  {
   "cell_type": "markdown",
   "id": "160b00bf",
   "metadata": {},
   "source": [
    "# Problem Set 1 Shubham Chawla 200493036"
   ]
  },
  {
   "cell_type": "markdown",
   "id": "1388f4e3",
   "metadata": {},
   "source": [
    "## Question 1 C#\n",
    "What data type is each of the following?"
   ]
  },
  {
   "cell_type": "markdown",
   "id": "99aa910c",
   "metadata": {},
   "source": [
    "| Value   | Data Type        |\n",
    "|:---     |-----------------:|\n",
    "| 5         |Int|\n",
    "| 5.0       |Double|\n",
    "| 5 > 1     |Boolean|\n",
    "|'5'        |Char|\n",
    "| 5 * 2       |Int|   \n",
    "|'5' * 2      |Int|\n",
    "|'5' + '2'    |Int|\n",
    "| 5 / 2       |Int|\n",
    "| 5 % 2       |Int|\n",
    "|{5, 2, 1}    |Int|\n",
    "| 5 == 3      |Boolean|\n",
    "|Pi (The Number)|Double|"
   ]
  },
  {
   "cell_type": "markdown",
   "id": "7d064b2a",
   "metadata": {},
   "source": [
    "{5,2,1} is an integer array which is basically a data structure, however it has a compound data type that is Int."
   ]
  },
  {
   "cell_type": "markdown",
   "id": "5756bed8",
   "metadata": {},
   "source": [
    "## Question 2 C#\n",
    "Write (and evaluate) C# expressions that answer these questions:"
   ]
  },
  {
   "cell_type": "markdown",
   "id": "8c0f037e",
   "metadata": {},
   "source": [
    "A. How many letters are there in 'Supercalifragilisticexpialidocious'?"
   ]
  },
  {
   "cell_type": "code",
   "execution_count": 1,
   "id": "11d4d380",
   "metadata": {},
   "outputs": [
    {
     "name": "stdout",
     "output_type": "stream",
     "text": [
      "There are 34 letters in 'Supercalifragilisticexpialidocious'.\r\n"
     ]
    }
   ],
   "source": [
    "string str = \"Supercalifragilisticexpialidocious\";\n",
    "int count = 0; //Counter variable\n",
    "\n",
    "foreach(char c in str) //loop iterates until the last character in the string str.\n",
    "{\n",
    "    count++; //Counter variable will increment until c is equal to the last character in the string.\n",
    "}\n",
    "\n",
    "Console.WriteLine($\"There are {count} letters in 'Supercalifragilisticexpialidocious'.\");"
   ]
  },
  {
   "cell_type": "markdown",
   "id": "de317abf",
   "metadata": {},
   "source": [
    "B. Does 'Supercalifragilisticexpialidocious' contain 'ice' as a substring?"
   ]
  },
  {
   "cell_type": "code",
   "execution_count": 2,
   "id": "5a47fb55",
   "metadata": {},
   "outputs": [
    {
     "name": "stdout",
     "output_type": "stream",
     "text": [
      "The answer is True.\r\n"
     ]
    }
   ],
   "source": [
    "string str = \"Supercalifragilisticexpialidocious\";\n",
    "string substr = \"ice\";\n",
    "\n",
    "bool result = str.Contains(substr); //using String.Contains method to check if the substring in present in string.\n",
    "\n",
    "Console.WriteLine($\"The answer is {result}.\");"
   ]
  },
  {
   "cell_type": "markdown",
   "id": "983af03a",
   "metadata": {},
   "source": [
    "C. Which of the following words is the longest:\n",
    "Supercalifragilisticexpialidocious, Honorificabilitudinitatibus, or Bababadalgharaghtakamminarronnkonn? "
   ]
  },
  {
   "cell_type": "code",
   "execution_count": 3,
   "id": "8c3c9e66",
   "metadata": {},
   "outputs": [
    {
     "name": "stdout",
     "output_type": "stream",
     "text": [
      "Supercalifragilisticexpialidocious and Bababadalgharaghtakamminarronnkonn are both equal and longest with 34 characters.\r\n"
     ]
    }
   ],
   "source": [
    "string word1 = \"Supercalifragilisticexpialidocious\";\n",
    "string word2 = \"Honorificabilitudinitatibus\";\n",
    "string word3 = \"Bababadalgharaghtakamminarronnkonn\";\n",
    "\n",
    "//Comparing the lengths of all three words with each other using nested if else statements\n",
    "if(word1.Length > word2.Length)  \n",
    "{\n",
    "    if(word1.Length > word3.Length)\n",
    "    {\n",
    "        Console.WriteLine($\"The longest word is {word1} with {word1.Length} characters.\");\n",
    "    }\n",
    "    else if(word1.Length < word3.Length)\n",
    "    {\n",
    "        Console.WriteLine($\"The longest word is {word3} with {word3.Length} characters.\");\n",
    "    }\n",
    "    else\n",
    "    {\n",
    "        Console.WriteLine($\"{word1} and {word3} are both equal and longest with {word1.Length} characters.\");\n",
    "    }\n",
    "}\n",
    "else if (word2.Length > word1.Length)\n",
    "{\n",
    "    if(word2.Length > word3.Length)\n",
    "    {\n",
    "        Console.WriteLine($\"The longest word is {word2} with {word2.Length} characters.\");\n",
    "    }\n",
    "    else if(word2.Length < word3.Length)\n",
    "    {\n",
    "        Console.WriteLine($\"The longest word is {word3} with {word3.Length} characters.\");\n",
    "    }\n",
    "    else\n",
    "    {\n",
    "        Console.WriteLine($\"{word2} and {word3} are both equal and longest with {word2.Length} characters.\");\n",
    "    }\n",
    "}\n",
    "else\n",
    "{\n",
    "    if(word3.Length > word1.Length)\n",
    "    {\n",
    "        \n",
    "        Console.WriteLine($\"The longest word is {word3} with {word3.Length} characters.\");\n",
    "    }\n",
    "    else if(word3.Length < word1.Length)\n",
    "    {\n",
    "        Console.WriteLine($\"{word1} and {word2} are both equal and longest with {word1.Length} characters.\");\n",
    "    }\n",
    "    else\n",
    "    {\n",
    "       Console.WriteLine($\"{word1}, {word2}, {word3} are all equal in length and are longest with {word1.Length} characters.\"); \n",
    "    }\n",
    "}"
   ]
  },
  {
   "cell_type": "markdown",
   "id": "1104d963",
   "metadata": {},
   "source": [
    "D. Which composer comes first in the dictionary: 'Berlioz', 'Borodin', 'Brian','Bartok', 'Bellini', 'Buxtehude', 'Bernstein'. Which one comes last?"
   ]
  },
  {
   "cell_type": "code",
   "execution_count": 4,
   "id": "ce3ffdd7",
   "metadata": {},
   "outputs": [
    {
     "name": "stdout",
     "output_type": "stream",
     "text": [
      "Bartok comes first in the dictionary and Buxtehude comes last in the dictionary."
     ]
    }
   ],
   "source": [
    "//Creating a string array composer\n",
    "string[] composer = {\"Berlioz\", \"Borodin\", \"Brian\",\"Bartok\", \"Bellini\", \"Buxtehude\", \"Bernstein\"};\n",
    "\n",
    "//Using Array.Sort method to sort the elements in the composer array\n",
    "Array.Sort(composer);\n",
    "\n",
    "//Printing the first and last element of the string array\n",
    "Console.Write($\"{composer[0]} comes first in the dictionary and {composer[composer.Length-1]} comes last in the dictionary.\");"
   ]
  },
  {
   "cell_type": "markdown",
   "id": "65c0361e",
   "metadata": {},
   "source": [
    "## Question 3 C#\n",
    "Implement function triangleArea(a,b,c) that takes as input the lengths of the 3 sides of a triangle and returns the area of the triangle. By Heron's formula, the area of a triangle with side lengths a, b, and c is √s(s - a)(s -b)(s -c), where               s = (a+b+c)/2."
   ]
  },
  {
   "cell_type": "code",
   "execution_count": 5,
   "id": "66eaa279",
   "metadata": {},
   "outputs": [
    {
     "name": "stdout",
     "output_type": "stream",
     "text": [
      "The area of the triangle is 1.7320508075688772\r\n"
     ]
    }
   ],
   "source": [
    "public static double triangleArea(double a, double b, double c)\n",
    "{\n",
    "    double s1 = a;\n",
    "    double s2 = b;\n",
    "    double s3 = c;\n",
    "    double s = (s1 + s2 + s3) / 2;\n",
    "    double area = Math.Sqrt(s * (s - s1)*(s - s2)*(s - s3));  //using Math.Sqrt function to compute square root\n",
    "    return area;\n",
    "}\n",
    "\n",
    "Console.WriteLine(\"The area of the triangle is \"+triangleArea(2,2,2)); // Calling the function triangleArea"
   ]
  },
  {
   "cell_type": "markdown",
   "id": "859e597a",
   "metadata": {},
   "source": [
    "## Question 4 C#\n",
    "Write a program in C# Sharp to separate odd and even integers in separate arrays. "
   ]
  },
  {
   "cell_type": "code",
   "execution_count": 7,
   "id": "a05db9fd",
   "metadata": {},
   "outputs": [
    {
     "name": "stdout",
     "output_type": "stream",
     "text": [
      "The Even Elements are: \n",
      "42 56 32 \n",
      "The Odd Elements are: \n",
      "25 47 "
     ]
    }
   ],
   "source": [
    "int[] inputArray = new int[5]{25,47,42,56,32}; //Input size and array elements\n",
    "int[] evenArray = new int[5];//Empty array to store even integers\n",
    "int[] oddArray = new int[5];//Empty array to store odd integers\n",
    "int evenCt = 0, oddCt = 0; //Even and odd counters to iterate over both arrays respectively\n",
    "\n",
    "for(int i = 0; i < 5; i++)\n",
    "{\n",
    "    if(inputArray[i] == 0)\n",
    "    {\n",
    "        evenArray[evenCt] = 0;\n",
    "        evenCt++;\n",
    "    }\n",
    "    else if(inputArray[i] % 2 == 0) //Check if element is divisible by 2\n",
    "    {\n",
    "        evenArray[evenCt] = inputArray[i];\n",
    "        evenCt++;\n",
    "    }\n",
    "    else //Case where element is not divisible by 2\n",
    "    {\n",
    "        oddArray[oddCt] = inputArray[i];\n",
    "        oddCt++;\n",
    "    }\n",
    "}\n",
    "Console.WriteLine(\"The Even Elements are: \");\n",
    "for(int i = 0; i < evenCt; i++)\n",
    "{\n",
    "    Console.Write($\"{evenArray[i]} \");\n",
    "}\n",
    "Console.WriteLine(\"\\nThe Odd Elements are: \");\n",
    "for(int i = 0; i < oddCt; i++)\n",
    "{\n",
    "    Console.Write($\"{oddArray[i]} \");\n",
    "}"
   ]
  },
  {
   "cell_type": "markdown",
   "id": "8e25e06b",
   "metadata": {},
   "source": [
    "## Question 5 C#\n",
    "A. Write a function inside(x,y,x1,y1,x2,y2) that returns True or False\n",
    "depending on whether the point (x,y) lies in the rectangle with lower left\n",
    "corner (x1,y1) and upper right corner (x2,y2).\n"
   ]
  },
  {
   "cell_type": "code",
   "execution_count": 8,
   "id": "19379a63",
   "metadata": {},
   "outputs": [],
   "source": [
    "//Function to check if the point(x,y) lies inside the rectangle with lower left corner(x1,y1) and upper right corner(x2,y2).\n",
    "public static bool inside(double x, double y, double x1, double y1, double x2, double y2)\n",
    "{\n",
    "    if((x > x1 && x < x2) && (y > y1 && y < y2))\n",
    "    {\n",
    "        return true;\n",
    "    }\n",
    "    else\n",
    "    {\n",
    "        return false;\n",
    "    }\n",
    "}"
   ]
  },
  {
   "cell_type": "code",
   "execution_count": 9,
   "id": "a0806922",
   "metadata": {},
   "outputs": [
    {
     "data": {
      "text/plain": [
       "True"
      ]
     },
     "execution_count": 9,
     "metadata": {},
     "output_type": "execute_result"
    }
   ],
   "source": [
    "inside(1,1,0,0,2,3) //check if (1,1) lies inside the rectangle with lower left corner(0,0) and upper right corner (2,3)"
   ]
  },
  {
   "cell_type": "code",
   "execution_count": 10,
   "id": "810aea66",
   "metadata": {},
   "outputs": [
    {
     "data": {
      "text/plain": [
       "False"
      ]
     },
     "execution_count": 10,
     "metadata": {},
     "output_type": "execute_result"
    }
   ],
   "source": [
    "inside(-1,-1,0,0,2,3)// check if (-1,-1) lies inside the rectangle with lower left corner(0,0) and upper right corner (2,3)"
   ]
  },
  {
   "cell_type": "markdown",
   "id": "8e975019",
   "metadata": {},
   "source": [
    "B. Use function inside() from part a. to write an expression that tests whether the point (1,1) lies in both of the following rectangles: one with lower left corner (0.3, 0.5) and upper right corner (1.1, 0.7) and the other with lower left corner (0.5, 0.2) and upper right corner (1.1, 2). "
   ]
  },
  {
   "cell_type": "code",
   "execution_count": 11,
   "id": "b634c7ab",
   "metadata": {},
   "outputs": [
    {
     "data": {
      "text/plain": [
       "False"
      ]
     },
     "execution_count": 11,
     "metadata": {},
     "output_type": "execute_result"
    }
   ],
   "source": [
    "inside(1,1,0.3,0.5,1.1,0.7)//check if (1,1) lies inside the rectangle with lower left corner(0.3, 0.5) and upper right corner(1.1, 0.7) "
   ]
  },
  {
   "cell_type": "code",
   "execution_count": 12,
   "id": "98227fc3",
   "metadata": {},
   "outputs": [
    {
     "data": {
      "text/plain": [
       "True"
      ]
     },
     "execution_count": 12,
     "metadata": {},
     "output_type": "execute_result"
    }
   ],
   "source": [
    "inside(1,1,0.5,0.2,1.1,2)//check if (1,1) lies inside the rectangle with lower left corner(0.5, 0.2) and upper right corner (1.1, 2)"
   ]
  },
  {
   "cell_type": "markdown",
   "id": "4ca55920",
   "metadata": {},
   "source": [
    "## Question 6 Python\n",
    "You can turn a word into pig-Latin using the following two rules (simplified):\n",
    "• If the word starts with a consonant, move that letter to the end and append\n",
    "'ay'. For example, 'happy' becomes 'appyhay' and 'pencil' becomes 'encilpay'.\n",
    "• If the word starts with a vowel, simply append 'way' to the end of the word.\n",
    "For example, 'enter' becomes 'enterway' and 'other' becomes 'otherway' . For\n",
    "our purposes, there are 5 vowels: a, e, i, o, u (so we count y as a consonant).\n",
    "Write a function pig() that takes a word (i.e., a string) as input and returns its pigLatin form. Your function should still work if the input word contains upper case\n",
    "characters. Your output should always be lower case however. "
   ]
  },
  {
   "cell_type": "code",
   "execution_count": 1,
   "id": "25d97d79",
   "metadata": {},
   "outputs": [
    {
     "name": "stdout",
     "output_type": "stream",
     "text": [
      "Enter a string: happy\n",
      "Pig Latin form for 'happy' is 'appyhay'\n",
      "Enter another string: Enter\n",
      "Pig Latin form for 'Enter' is 'enterway'\n"
     ]
    }
   ],
   "source": [
    "#Function to convert entered string into pigLatin form\n",
    "def pig(word):\n",
    "    newStr = \"\"\n",
    "    word = word.lower() #Converting the string to lowercase\n",
    "    \n",
    "    #Check if first letter is a vowel\n",
    "    if word[0] == 'a' or word[0] == 'e' or word[0] == 'i' or word[0] == 'o' or word[0] == 'u':\n",
    "        newStr = word + \"way\" #concatenation\n",
    "        return newStr\n",
    "    else: #Case where first letter is a consonant\n",
    "        newStr = word[1:len(word)]+word[0]+\"ay\" #concatenation\n",
    "        return newStr\n",
    "\n",
    "\n",
    "word = input(\"Enter a string: \")\n",
    "print(\"Pig Latin form for '\"+word+\"' is '\"+pig(word)+\"'\")\n",
    "word_2 = input(\"Enter another string: \")\n",
    "print(\"Pig Latin form for '\"+word_2+\"' is '\"+pig(word_2)+\"'\")"
   ]
  },
  {
   "cell_type": "code",
   "execution_count": 2,
   "id": "6cd810d2",
   "metadata": {},
   "outputs": [
    {
     "data": {
      "text/plain": [
       "'appyhay'"
      ]
     },
     "execution_count": 2,
     "metadata": {},
     "output_type": "execute_result"
    }
   ],
   "source": [
    "pig(\"happy\")"
   ]
  },
  {
   "cell_type": "code",
   "execution_count": 3,
   "id": "a2d2a2b3",
   "metadata": {},
   "outputs": [
    {
     "data": {
      "text/plain": [
       "'enterway'"
      ]
     },
     "execution_count": 3,
     "metadata": {},
     "output_type": "execute_result"
    }
   ],
   "source": [
    "pig(\"Enter\")"
   ]
  },
  {
   "cell_type": "markdown",
   "id": "d7df70e1",
   "metadata": {},
   "source": [
    "## Question 7 Python\n",
    "File bloodtype1.txt records blood-types of patients (A, B, AB, O or OO) at a clinic.\n",
    "Write a function bldcount() that reads the file with name name and reports (i.e.,\n",
    "prints) how many patients there are in each bloodtype."
   ]
  },
  {
   "cell_type": "code",
   "execution_count": 4,
   "id": "eb81a7d9",
   "metadata": {},
   "outputs": [
    {
     "name": "stdout",
     "output_type": "stream",
     "text": [
      "{'AB': 13, 'B': 1, 'O': 15, 'A': 15, 'OO': 0}\n",
      "\n",
      "There are 15 patients of blood type A.\n",
      "There are 1 patients of blood type B.\n",
      "There are 13 patients of blood type AB.\n",
      "There are 15 patients of blood type O.\n",
      "There are 0 patients of blood type OO.\n"
     ]
    }
   ],
   "source": [
    "def bldcount(name):\n",
    "    infile = open(name,'r') #opening file in read mode\n",
    "    content = infile.read() #reading all the text in content variable\n",
    "    infile.close() #closing the file\n",
    "    content = content.split() #split text into list of words\n",
    "    counters = {} #dictionary for counters\n",
    "    \n",
    "    for item in content:\n",
    "        if item in counters: # increment item counter\n",
    "            counters[item] += 1\n",
    "        else:# create new counter if item does not exists\n",
    "            counters[item] = 1\n",
    "    #print(counters)# Blood Group 'OO' is not present in the text file\n",
    "    counters.update( {'OO' : 0} ) # Added a key for 'OO' blood group with value 0\n",
    "    print(counters)\n",
    "    print(\"\\nThere are {} patients of blood type A.\".format(counters['A']))\n",
    "    print(\"There are {} patients of blood type B.\".format(counters['B']))\n",
    "    print(\"There are {} patients of blood type AB.\".format(counters['AB']))\n",
    "    print(\"There are {} patients of blood type O.\".format(counters['O']))\n",
    "    print(\"There are {} patients of blood type OO.\".format(counters['OO']))\n",
    "    \n",
    "bldcount('bloodtype1.txt')"
   ]
  },
  {
   "cell_type": "markdown",
   "id": "d99b591d",
   "metadata": {},
   "source": [
    "## Question 8 Python\n",
    "Write a function curconv() that takes as input:\n",
    "1. a currency represented using a string (e.g., 'JPY' for the Japanese Yen or 'EUR' for the Euro)\n",
    "2. an amount and then converts and returns the amount in US dollars."
   ]
  },
  {
   "cell_type": "code",
   "execution_count": 5,
   "id": "e756d560",
   "metadata": {},
   "outputs": [
    {
     "name": "stdout",
     "output_type": "stream",
     "text": [
      "Enter your preferred currency from which you want to convert: Indian Rupee\n",
      "Enter the amount of conversion: 1000\n",
      "Amount in USD for 1000.0 Indian Rupee is 17.7643 \n"
     ]
    }
   ],
   "source": [
    "def curconv(currency,amount):\n",
    "    amountinUSD = 0;\n",
    "    #creating a dictionary for all currencies and their rates(full forms and abbreviations)\n",
    "    currencyConverter = {\"AUD\":\"1.0345157\",\"CHF\":\"1.0237414\",\"CNY\":\"0.1550176\",\"DKK\":\"0.1651442\",\"EUR\":\"1.2296544\",\"GBP\":\"1.5550989\",\"HKD\":\"0.1270207\",\n",
    "     \"INR\":\"0.0177643\",\"JPY\":\"0.01241401\",\"MXN\":\"0.0751848\",\"MYR\":\"0.3145411\",\"NOK\":\"0.1677063\",\"NZD\":\"0.8003591\",\"PHP\":\"0.0233234\",\n",
    "     \"SEK\":\"0.148269\",\"SGD\":\"0.788871\",\"THB\":\"0.0313789\",\"Australian Dollar\":\"1.0345157\",\"Swiss Franc\":\"1.0237414\",\"Chinese Yuan\":\"0.1550176\",\n",
    "     \"Danish Krone\":\"0.1651442\",\"Euro\":\"1.2296544\",\"British Pound\":\"1.5550989\",\"Hong Kong Dollar\":\"0.1270207\",\"Indian Rupee\":\"0.0177643\",\n",
    "     \"Japanese Yen\":\"0.01241401\",\"Mexican Peso\":\"0.0751848\",\"Malaysian Ringgit\":\"0.3145411\",\"Norwegian Krone\":\"0.1677063\",\n",
    "     \"New Zealand Dollar\":\"0.8003591\",\"Philippine Peso\":\"0.0233234\",\"Swedish Krona\":\"0.148269\",\"Singapore Dollar\":\"0.788871\",\"Thai Baht\":\"0.0313789\"\n",
    "    }\n",
    "    for item in currencyConverter: #iterating over keys in dictionary\n",
    "        if item == currency: #checking if the keys matches the currency entered\n",
    "            amountinUSD = float(currencyConverter[item])*amount \n",
    "    \n",
    "    print(\"Amount in USD for {} {} is {} \".format(amount,currency,amountinUSD))\n",
    "            \n",
    "curr = input(\"Enter your preferred currency from which you want to convert: \")\n",
    "amt = float(input(\"Enter the amount of conversion: \"))\n",
    "curconv(curr,amt)"
   ]
  },
  {
   "cell_type": "code",
   "execution_count": 6,
   "id": "bbb388c7",
   "metadata": {},
   "outputs": [
    {
     "name": "stdout",
     "output_type": "stream",
     "text": [
      "Amount in USD for 100 EUR is 122.96544 \n"
     ]
    }
   ],
   "source": [
    "curconv('EUR',100)"
   ]
  },
  {
   "cell_type": "code",
   "execution_count": 7,
   "id": "f210273a",
   "metadata": {},
   "outputs": [
    {
     "name": "stdout",
     "output_type": "stream",
     "text": [
      "Amount in USD for 100 JPY is 1.241401 \n"
     ]
    }
   ],
   "source": [
    "curconv('JPY', 100)"
   ]
  },
  {
   "cell_type": "markdown",
   "id": "937a2a90",
   "metadata": {},
   "source": [
    "## Question 9 Python\n",
    "Each of the following will cause an exception (an error). Identify what type of exception each will cause.\n",
    "Trying to add incompatible variables, as in adding 6 + ‘a’\n",
    "Referring to the 12th item of a list that has only 10 items\n",
    "Using a value that is out of range for a function’s input, such as calling math.sqrt(-1.0)\n",
    "Using an undeclared variable, such as print(x) when x has not been defined\n",
    "Trying to open a file that does not exist, such as mistyping the file name or looking in the wrong directory. "
   ]
  },
  {
   "cell_type": "markdown",
   "id": "4cd098b0",
   "metadata": {},
   "source": [
    "# Commands for checking the errors\n",
    "import math\n",
    "op = 6 +'a' #adding integer and string\n",
    "\n",
    "list = [0,1,2,3,4,5,6,7,8,9]\n",
    "\n",
    "print(list[12]) # referring to element with index out of range\n",
    "\n",
    "math.sqrt(-1.0) # -1.0 is out of range for math.sqrt function input\n",
    "\n",
    "print(x) # printing an undefined variable x\n",
    "\n",
    "file = open('bloodtest.txt') # opening a file with a mispelled name which doesnt exist"
   ]
  },
  {
   "cell_type": "markdown",
   "id": "29bc314b",
   "metadata": {},
   "source": [
    "| Operation   | Error/ Exception        |\n",
    "|:---     |-----------------:|\n",
    "|6 + 'a'         |unsupported operand type(s) for +: 'int' and 'str'|\n",
    "|Referring to the 12th item of a list that has only 10 items |list index out of range|\n",
    "|math.sqrt(-1.0)    |math domain error|\n",
    "|print(x)     |name 'x' is not defined|\n",
    "|Trying to open a file that does not exist, such as mistyping the file name or looking in the wrong directory file = open('bloodtest.txt')| [Errno 2] No such file or directory: 'bloodtest.txt'|   \n"
   ]
  },
  {
   "cell_type": "markdown",
   "id": "a9b77974",
   "metadata": {},
   "source": [
    "## Question 10 Python\n",
    "Question 10 Python\n",
    "Encryption is the process of hiding the meaning of a text by substituting letters in the message with other letters, according to some system. If the process is successful, no\n",
    "one but the intended recipient can understand the encrypted message. Cryptanalysis\n",
    "refers to attempts to undo the encryption, even if some details of the encryption are\n",
    "unknown (for example, if an encrypted message has been intercepted). The first step\n",
    "of cryptanalysis is often to build up a table of letter frequencies in the encrypted text.\n",
    "Assume that the string letters is already defined as\n",
    "'abcdefghijklmnopqrstuvwxyz'. Write a function called frequencies()\n",
    "that takes a string as its only parameter, and returns a list of integers, showing the\n",
    "number of times each character appears in the text. Your function may ignore any\n",
    "characters that are not in letters. "
   ]
  },
  {
   "cell_type": "code",
   "execution_count": 8,
   "id": "8f52b257",
   "metadata": {},
   "outputs": [
    {
     "name": "stdout",
     "output_type": "stream",
     "text": [
      "Enter a string for encryption: apple\n"
     ]
    },
    {
     "data": {
      "text/plain": [
       "[1, 0, 0, 0, 1, 0, 0, 0, 0, 0, 0, 1, 0, 0, 0, 2, 0, 0, 0, 0, 0, 0, 0, 0, 0, 0]"
      ]
     },
     "execution_count": 8,
     "metadata": {},
     "output_type": "execute_result"
    }
   ],
   "source": [
    "def frequencies(str):\n",
    "    resultList = []\n",
    "    alphabets = \"abcdefghijklmnopqrstuvwxyz\" #list of all the alphabets\n",
    "    l = len(alphabets)\n",
    "    \n",
    "    for i in range(l) :\n",
    "        resultList.append(str.count(alphabets[i])) #used the count function to count the occurences\n",
    "    return resultList\n",
    "\n",
    "text = input(\"Enter a string for encryption: \")\n",
    "frequencies(text)"
   ]
  },
  {
   "cell_type": "code",
   "execution_count": 9,
   "id": "c0ddfd97",
   "metadata": {},
   "outputs": [
    {
     "data": {
      "text/plain": [
       "[1, 1, 1, 3, 5, 1, 1, 2, 1, 0, 1, 0, 1, 2, 4, 0, 1, 2, 0, 2, 1, 0, 1, 1, 0, 0]"
      ]
     },
     "execution_count": 9,
     "metadata": {},
     "output_type": "execute_result"
    }
   ],
   "source": [
    "frequencies('The quick red fox got bored and went home.')"
   ]
  },
  {
   "cell_type": "code",
   "execution_count": 10,
   "id": "42fd777f",
   "metadata": {},
   "outputs": [
    {
     "data": {
      "text/plain": [
       "[1, 0, 0, 0, 3, 0, 2, 0, 1, 0, 0, 2, 0, 1, 2, 0, 0, 1, 0, 0, 0, 0, 0, 0, 0, 0]"
      ]
     },
     "execution_count": 10,
     "metadata": {},
     "output_type": "execute_result"
    }
   ],
   "source": [
    "frequencies('Georgian College')"
   ]
  }
 ],
 "metadata": {
  "kernelspec": {
   "display_name": "Python 3 (ipykernel)",
   "language": "python",
   "name": "python3"
  },
  "language_info": {
   "codemirror_mode": {
    "name": "ipython",
    "version": 3
   },
   "file_extension": ".py",
   "mimetype": "text/x-python",
   "name": "python",
   "nbconvert_exporter": "python",
   "pygments_lexer": "ipython3",
   "version": "3.9.7"
  }
 },
 "nbformat": 4,
 "nbformat_minor": 5
}
